{
 "cells": [
  {
   "cell_type": "code",
   "execution_count": 1,
   "metadata": {},
   "outputs": [],
   "source": [
    "import numpy as np\n",
    "\n",
    "# Read input\n",
    "with open(\"input.txt\") as f:\n",
    "    lines = f.readlines()"
   ]
  },
  {
   "cell_type": "markdown",
   "metadata": {},
   "source": [
    "### Puzzle 1"
   ]
  },
  {
   "cell_type": "code",
   "execution_count": 2,
   "metadata": {},
   "outputs": [
    {
     "data": {
      "text/plain": [
       "1765812"
      ]
     },
     "execution_count": 2,
     "metadata": {},
     "output_type": "execute_result"
    }
   ],
   "source": [
    "# Create lists of int for each column\n",
    "l1 = [int(i.split()[0]) for i in lines]\n",
    "l2 = [int(i.split()[1]) for i in lines]\n",
    "\n",
    "# Sort and difference\n",
    "l1.sort()\n",
    "l2.sort()\n",
    "l3 = [np.abs(l2[i] - l1[i]) for i in range(len(l1))]\n",
    "sum(l3)"
   ]
  },
  {
   "cell_type": "markdown",
   "metadata": {},
   "source": [
    "### Puzzle 2"
   ]
  },
  {
   "cell_type": "code",
   "execution_count": 3,
   "metadata": {},
   "outputs": [
    {
     "data": {
      "text/plain": [
       "20520794"
      ]
     },
     "execution_count": 3,
     "metadata": {},
     "output_type": "execute_result"
    }
   ],
   "source": [
    "# Count occorrences\n",
    "occorrence_dict = {}\n",
    "for i in l2:\n",
    "    occorrence_dict[i] = occorrence_dict.get(i, 0) + 1\n",
    "\n",
    "# Get similarity\n",
    "l1_scaled = [occorrence_dict.get(i,0) * i for i in l1]\n",
    "sum(l1_scaled)\n"
   ]
  }
 ],
 "metadata": {
  "language_info": {
   "name": "python"
  }
 },
 "nbformat": 4,
 "nbformat_minor": 2
}
